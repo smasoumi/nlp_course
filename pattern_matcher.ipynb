{
 "cells": [
  {
   "cell_type": "code",
   "execution_count": 1,
   "metadata": {},
   "outputs": [],
   "source": [
    "# Import spaCy\n",
    "import spacy\n",
    "\n",
    "# Load the small English pipeline\n",
    "nlp = spacy.load(\"en_core_web_sm\")"
   ]
  },
  {
   "cell_type": "markdown",
   "metadata": {},
   "source": [
    "# Rule-based matching"
   ]
  },
  {
   "cell_type": "markdown",
   "metadata": {},
   "source": [
    "***Each object inside the pattern represents a token***"
   ]
  },
  {
   "cell_type": "markdown",
   "metadata": {},
   "source": [
    "match \"iPhone X\" and all verbs"
   ]
  },
  {
   "cell_type": "code",
   "execution_count": 2,
   "metadata": {},
   "outputs": [
    {
     "name": "stdout",
     "output_type": "stream",
     "text": [
      "number of matches:  4\n",
      "1598491564677789804 0 1  ->  Upcoming\n",
      "6584259252511850000 1 3  ->  iPhone X\n",
      "1598491564677789804 5 6  ->  leaked\n",
      "1598491564677789804 8 9  ->  reveals\n"
     ]
    }
   ],
   "source": [
    "import spacy\n",
    "\n",
    "nlp = spacy.load(\"en_core_web_sm\")\n",
    "\n",
    "text = \"Upcoming iPhone X release date leaked as Apple reveals pre-orders\"\n",
    "\n",
    "# Process the text\n",
    "doc = nlp(text)\n",
    "\n",
    "from spacy.matcher import Matcher\n",
    "matcher = Matcher(nlp.vocab)\n",
    "\n",
    "pattern1 = [{'TEXT':'iPhone'},{'TEXT':'X'}]\n",
    "matcher.add('iphonx_pattern', [pattern1])\n",
    "\n",
    "pattern2 = [{'POS':'VERB'}]\n",
    "matcher.add('verb_pattern', [pattern2])\n",
    "\n",
    "matches = matcher(doc)\n",
    "\n",
    "print('number of matches: ',len(matches))\n",
    "\n",
    "for id, start_index, end_index in matches:\n",
    "    print(id, start_index, end_index,' -> ', doc[start_index:end_index])"
   ]
  },
  {
   "cell_type": "code",
   "execution_count": 3,
   "metadata": {},
   "outputs": [
    {
     "name": "stdout",
     "output_type": "stream",
     "text": [
      "number of matches:  1\n",
      "11837971121878756899 0 5  ->  2018 FIFA World Cup:\n"
     ]
    }
   ],
   "source": [
    "doc = nlp(\"2018 FIFA World Cup: France won!\")\n",
    "\n",
    "pattern = [\n",
    "    {\"IS_DIGIT\": True},\n",
    "    {\"LOWER\": \"fifa\"},\n",
    "    {\"LOWER\": \"world\"},\n",
    "    {\"LOWER\": \"cup\"},\n",
    "    {\"IS_PUNCT\": True}\n",
    "]\n",
    "\n",
    "matcher = Matcher(nlp.vocab)\n",
    "matcher.add('fifa_world_cup',[pattern])\n",
    "matches = matcher(doc)\n",
    "\n",
    "print('number of matches: ',len(matches))\n",
    "\n",
    "for id, start_index, end_index in matches:\n",
    "    print(id, start_index, end_index,' -> ', doc[start_index:end_index])"
   ]
  },
  {
   "cell_type": "markdown",
   "metadata": {},
   "source": [
    "# pattern matcher: operators and quantifiers "
   ]
  },
  {
   "cell_type": "markdown",
   "metadata": {},
   "source": [
    "***You can define more characteristics of a token***"
   ]
  },
  {
   "cell_type": "code",
   "execution_count": 4,
   "metadata": {},
   "outputs": [
    {
     "name": "stdout",
     "output_type": "stream",
     "text": [
      "number of matches:  2\n",
      "16299021794684283811 1 4  ->  bought a smartphone\n",
      "16299021794684283811 8 10  ->  buying apps\n"
     ]
    }
   ],
   "source": [
    "pattern = [\n",
    "    {\"LEMMA\": \"buy\"},\n",
    "    {\"POS\": \"DET\", \"OP\": \"?\"},  # optional: match 0 or 1 times\n",
    "    {\"POS\": \"NOUN\"}\n",
    "]\n",
    "doc = nlp(\"I bought a smartphone. Now I'm buying apps.\")\n",
    "matcher = Matcher(nlp.vocab)\n",
    "matcher.add('buy_sth',[pattern])\n",
    "matches = matcher(doc)\n",
    "\n",
    "print('number of matches: ',len(matches))\n",
    "\n",
    "for id, start_index, end_index in matches:\n",
    "    print(id, start_index, end_index,' -> ', doc[start_index:end_index])\n"
   ]
  },
  {
   "cell_type": "markdown",
   "metadata": {},
   "source": [
    "{\"OP\": \"!\"}\tNegation: match 0 times\n",
    "\n",
    "{\"OP\": \"?\"}\tOptional: match 0 or 1 times\n",
    "\n",
    "{\"OP\": \"+\"}\tMatch 1 or more times\n",
    "\n",
    "{\"OP\": \"*\"}\tMatch 0 or more times"
   ]
  },
  {
   "cell_type": "markdown",
   "metadata": {},
   "source": [
    "### Example :"
   ]
  },
  {
   "cell_type": "markdown",
   "metadata": {},
   "source": [
    "Write one pattern that matches adjectives (\"ADJ\") followed by one or two \"NOUN\"s (one noun and one optional noun)."
   ]
  },
  {
   "cell_type": "code",
   "execution_count": 5,
   "metadata": {},
   "outputs": [
    {
     "name": "stdout",
     "output_type": "stream",
     "text": [
      "Total matches found: 5\n",
      "Match found: beautiful design\n",
      "Match found: smart search\n",
      "Match found: automatic labels\n",
      "Match found: optional voice\n",
      "Match found: optional voice responses\n"
     ]
    }
   ],
   "source": [
    "import spacy\n",
    "from spacy.matcher import Matcher\n",
    "\n",
    "nlp = spacy.load(\"en_core_web_sm\")\n",
    "matcher = Matcher(nlp.vocab)\n",
    "\n",
    "doc = nlp(\n",
    "    \"Features of the app include a beautiful design, smart search, automatic \"\n",
    "    \"labels and optional voice responses.\"\n",
    ")\n",
    "\n",
    "# Write a pattern for adjective plus one or two nouns\n",
    "pattern = [{\"POS\": 'ADJ'}, {\"POS\": 'NOUN'}, {\"POS\": 'NOUN', \"OP\": '?'}]\n",
    "\n",
    "# Add the pattern to the matcher and apply the matcher to the doc\n",
    "matcher.add(\"ADJ_NOUN_PATTERN\", [pattern])\n",
    "matches = matcher(doc)\n",
    "print(\"Total matches found:\", len(matches))\n",
    "\n",
    "# Iterate over the matches and print the span text\n",
    "for match_id, start, end in matches:\n",
    "    print(\"Match found:\", doc[start:end].text)"
   ]
  },
  {
   "cell_type": "code",
   "execution_count": null,
   "metadata": {},
   "outputs": [],
   "source": []
  }
 ],
 "metadata": {
  "kernelspec": {
   "display_name": "pytorch",
   "language": "python",
   "name": "python3"
  },
  "language_info": {
   "codemirror_mode": {
    "name": "ipython",
    "version": 3
   },
   "file_extension": ".py",
   "mimetype": "text/x-python",
   "name": "python",
   "nbconvert_exporter": "python",
   "pygments_lexer": "ipython3",
   "version": "3.12.3"
  }
 },
 "nbformat": 4,
 "nbformat_minor": 2
}
